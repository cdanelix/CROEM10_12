{
  "nbformat": 4,
  "nbformat_minor": 0,
  "metadata": {
    "colab": {
      "provenance": [],
      "include_colab_link": true
    },
    "kernelspec": {
      "name": "python3",
      "display_name": "Python 3"
    }
  },
  "cells": [
    {
      "cell_type": "markdown",
      "metadata": {
        "id": "view-in-github",
        "colab_type": "text"
      },
      "source": [
        "<a href=\"https://colab.research.google.com/github/cdanelix/CROEM10_12/blob/master/HR_Diagram_Spanish_Student.ipynb\" target=\"_parent\"><img src=\"https://colab.research.google.com/assets/colab-badge.svg\" alt=\"Open In Colab\"/></a>"
      ]
    },
    {
      "cell_type": "markdown",
      "metadata": {
        "id": "d_QtQS8liic8"
      },
      "source": [
        "**Objetivos**  \n",
        "Objetivo\n",
        "En esta actividad los estudiantes investigarán la posible relación entre el brillo de las estrellas y la energía que emiten."
      ]
    },
    {
      "cell_type": "markdown",
      "metadata": {
        "id": "zUoDKtfdk6ti"
      },
      "source": [
        "**Introducción**  \n",
        "Hemos comentado en clase las diferencias entre magnitud aparente y magnitud absoluta. En esta actividad analizarás un gran conjunto de datos y explorarás la relación entre magnitud absoluta, magnitud aparente y luminosidad.\n",
        "\n",
        "  \n",
        "Ejecute el siguiente código. para importar todos los módulos que necesitará. Preste mucha atención a por qué cada módulo es importante."
      ]
    },
    {
      "cell_type": "code",
      "metadata": {
        "id": "P26iwb20icfY"
      },
      "source": [
        "#Importar todas estas herramientas serán necesarias\n",
        "import pandas as pd #Para manipulación de data y análisis\n",
        "import numpy as np #Matemáticas\n",
        "import matplotlib as mpl #Gráficas\n",
        "import matplotlib.pyplot as plt #Mas Gráficas"
      ],
      "execution_count": null,
      "outputs": []
    },
    {
      "cell_type": "markdown",
      "metadata": {
        "id": "RGtvApbVk5WI"
      },
      "source": [
        "# **Parte I**  \n",
        "Ejecute el bloque de código siguiente y considere las siguientes preguntas.\n",
        "\n",
        "Hay un par de comandos útiles que podemos usar para ver los datos. El primero es *data.head(n)* que nos muestra las primeras n líneas de la tabla. El segundo es *data.shape* que nos muestra el número de filas y columnas de la tabla de datos.\n",
        "\n",
        "1. ¿Qué notas sobre los encabezados de las columnas en la tabla de datos? ¿Son fáciles de interpretar?\n",
        "3. ¿Cuántos puntos de datos hay en esta tabla de datos? ¿Cómo puedes saberlo?\n",
        "  \n",
        "  \n",
        "\n"
      ]
    },
    {
      "cell_type": "code",
      "metadata": {
        "id": "6awy_UCwk4Q3"
      },
      "source": [
        "#Importar los datos de las estrellas\n",
        "stars = pd.read_csv('https://github.com/adamlamee/CODINGinK12/raw/master/data/stars.csv')\n",
        "pd.set_option('display.max_columns', 500)\n",
        "stars.head()"
      ],
      "execution_count": null,
      "outputs": []
    },
    {
      "cell_type": "markdown",
      "metadata": {
        "id": "Zetu1Co8t8NE"
      },
      "source": [
        "# **Parte II**\n",
        "Determine qué columnas de la tabla de datos representan la magnitud aparente y cuáles representan la magnitud absoluta. Utilice el bloque de código siguiente para crear un gráfico de magnatitud aparente frente a magnatitud absoluta y considere las preguntas siguientes.\n",
        "  \n",
        "Presta mucha atención al cierre a continuación. No está completo. Debe leerlo y completarlo completando los nombres de las columnas de los datos que necesita para completar el gráfico. ¡No olvides tu título y etiquetas!\n",
        "\n",
        "1. ¿Qué crees que podemos deducir de este gráfico?\n",
        "2. ¿Crees que podemos hacer un gráfico mejor con los datos que tenemos?"
      ]
    },
    {
      "cell_type": "code",
      "metadata": {
        "id": "ThYfqQ9As0dW"
      },
      "source": [
        "fig, ax = plt.subplots(figsize=(10,7))\n",
        "plt.scatter(stars[''], stars[''], marker = 'o', s= 10, color = 'red')\n",
        "plt.title(\"Don't Forget a Title\")\n",
        "plt.xlabel(\"Or a Label\")\n",
        "plt.ylabel(\"Or This Label\")"
      ],
      "execution_count": null,
      "outputs": []
    },
    {
      "cell_type": "markdown",
      "metadata": {
        "id": "ZaHC1nTUxqUQ"
      },
      "source": [
        "# **Parte III**\n",
        "\n",
        "Otro dato que tenemos es la luminosidad o la energía emitida por la estrella.\n",
        "  \n",
        "\n",
        "1. ¿Cómo crees que se relaciona la energía emitida por una estrella determinada con el brillo de la estrella?\n",
        "  \n",
        "En esta sección vas a crear DOS gráficos. Compararás TANTO la magnitud absoluta como la magnitud aparente con la luminosidad. Al igual que en el gráfico anterior, el código está incluido pero no está completo. Debe tener cuidado de incluir los nombres de columna correctos de la tabla de datos anterior.\n"
      ]
    },
    {
      "cell_type": "code",
      "metadata": {
        "id": "HcYsl38jy3UY"
      },
      "source": [
        "fig, ax = plt.subplots(figsize=(10,7))\n",
        "plt.scatter(stars[''], stars[''], marker = 'o', s= 10, color = 'pink')\n",
        "plt.title(\"Another Title? WHY??\")\n",
        "plt.xlabel(\"WHY ARE THERE SO MANY LABELS?\")\n",
        "plt.ylabel(\"No\")"
      ],
      "execution_count": null,
      "outputs": []
    },
    {
      "cell_type": "code",
      "metadata": {
        "id": "qJayaiCbzIGm"
      },
      "source": [
        "fig, ax = plt.subplots(figsize=(10,7))\n",
        "plt.scatter(stars[''], stars[''], marker = 'o', s= 10, color = 'orange')\n",
        "plt.title(\"Waffles\")\n",
        "plt.xlabel(\"Syrup\")\n",
        "plt.ylabel(\"Strawberries\")"
      ],
      "execution_count": null,
      "outputs": []
    },
    {
      "cell_type": "markdown",
      "source": [],
      "metadata": {
        "id": "VGE8jKx4SRD9"
      }
    },
    {
      "cell_type": "markdown",
      "metadata": {
        "id": "UUMtw_dKzcaH"
      },
      "source": [
        "Considere los dos gráficos anteriores.\n",
        "\n",
        "2. ¿Qué podemos determinar a partir de los gráficos anteriores?\n",
        "3. ¿Cómo se comparan las formas de las dos gráficas?\n",
        "4. Considere el gráfico de luminosidad versus magnitud absoluta. Recuerde lo que hemos aprendido sobre la magnitud. ¿Qué estrellas son las más brillantes? ¿Una magnetude negativa significa que es una estrella tenue?\n"
      ]
    },
    {
      "cell_type": "markdown",
      "metadata": {
        "id": "0fjYH2cC29zl"
      },
      "source": [
        "# **Parte IV**\n",
        "Desafortunadamente, los gráficos que ha realizado en las secciones anteriores, si bien pueden permitirnos ver las relaciones entre los datos hasta cierto punto, no son tan útiles como los científicos necesitan. Cuando los astrónomos grafican datos estelares, utilizan un tipo específico de gráfico llamado diagrama de Hertzsprung-Russel.\n",
        "![https://i.ytimg.com/vi/Yfbs0xydBWE/maxresdefault.jpg](https://i.ytimg.com/vi/Yfbs0xydBWE/maxresdefault.jpg)"
      ]
    },
    {
      "cell_type": "markdown",
      "metadata": {
        "id": "OvEoSZi_6_DH"
      },
      "source": [
        "Un diagrama de Hertzsprung-Russel es un diagrama de dispersión de estrellas que muestra la relación entre la luminosidad o magnitud absoluta versus la clasificación estelar o la temperatura efectiva. Este tipo de gráficos ayudan a los astrónomos a comprender los pasos de la evolución estelar. En la tabla de datos anterior, tienes todo lo que necesitas para crear tu propio diagrama de Hertzsprung-Russel. Utilice el bloque de código a continuación y la imagen de arriba como guía para crear su gráfico."
      ]
    },
    {
      "cell_type": "code",
      "metadata": {
        "id": "fMM5hXIA20Er"
      },
      "source": [
        "plt.scatter(stars[\"\"], stars[\"\"], s = 1, alpha = .5, edgecolors = \"none\")\n",
        "plt.xlabel('Something Goes Here')\n",
        "plt.ylabel('Something Goes Here Too')\n",
        "plt.title('You Guessed it.. Something here too')\n",
        "plt.show()"
      ],
      "execution_count": null,
      "outputs": []
    },
    {
      "cell_type": "markdown",
      "metadata": {
        "id": "luSGE1uD7gHs"
      },
      "source": [
        "¿Su gráfico se ve bastante bien? ¿No? Quizás deberías intentar jugar con tus escalas. Notarás en la imagen de arriba que el eje x está invertido y el eje y está en una escala logorítmica. Utilice los siguientes comandos en su código anterior para alterar su eje.\n",
        "  \n",
        "plt.yscale(\"log\")\n",
        "\n",
        "plt.gca().invert_xaxis()\n",
        "\n",
        "  ¿Se ve un poco mejor en comparación con la imagen de arriba? ¡Felicidades! ¡Acabas de crear tu propio diagrama de Hertzsprung-Russell!"
      ]
    }
  ]
}